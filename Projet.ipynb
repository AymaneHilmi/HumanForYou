{
 "cells": [
  {
   "cell_type": "code",
   "execution_count": 41,
   "metadata": {},
   "outputs": [],
   "source": [
    "# Import des bibliothèques principales\n",
    "import pandas as pd\n",
    "import numpy as np\n",
    "import matplotlib.pyplot as plt\n",
    "import seaborn as sns\n",
    "from sklearn.model_selection import train_test_split\n",
    "from sklearn.ensemble import RandomForestClassifier\n",
    "from sklearn.metrics import classification_report, confusion_matrix, roc_auc_score\n"
   ]
  },
  {
   "cell_type": "code",
   "execution_count": null,
   "metadata": {},
   "outputs": [],
   "source": [
    "# Charger les données\n",
    "hr_data = pd.read_csv('general_data.csv')\n",
    "survey_data = pd.read_csv('employee_survey_data.csv')\n",
    "manager_data = pd.read_csv('manager_survey_data.csv')\n",
    "in_time_data = pd.read_csv('in_time.csv')\n",
    "out_time_data = pd.read_csv('out_time.csv')\n",
    "\n",
    "# Aperçu des données\n",
    "print(in_time_data.head())\n",
    "print(out_time_data.head())\n"
   ]
  },
  {
   "cell_type": "code",
   "execution_count": null,
   "metadata": {},
   "outputs": [],
   "source": [
    "# Renommer la première colonne pour qu'elle devienne \"EmployeeID\" dans in_time et out_time\n",
    "in_time_data.rename(columns={\"Unnamed: 0\": 'EmployeeID'}, inplace=True)\n",
    "out_time_data.rename(columns={\"Unnamed: 0\": 'EmployeeID'}, inplace=True)\n",
    "\n",
    "# Vérifier les modifications\n",
    "print(in_time_data.head())\n",
    "\n",
    "print(out_time_data.head())\n",
    "\n",
    "# Sauvegarder les fichiers modifiés si nécessaire\n",
    "in_time_data.to_csv('in_time_modified.csv', index=False)\n",
    "out_time_data.to_csv('out_time_modified.csv', index=False)\n",
    "\n",
    "# Charger les fichiers modifiés\n",
    "in_time_data = pd.read_csv('in_time_modified.csv')\n",
    "out_time_data = pd.read_csv('out_time_modified.csv')\n",
    "\n",
    "# Fusionner les données de chaque fichier\n",
    "hr_data = hr_data.merge(survey_data, on='EmployeeID')\n",
    "hr_data = hr_data.merge(manager_data, on='EmployeeID')\n",
    "hr_data = hr_data.merge(in_time_data, on='EmployeeID')\n",
    "hr_data = hr_data.merge(out_time_data, on='EmployeeID')\n",
    "\n",
    "# Aperçu des données fusionnées\n",
    "print(hr_data.head())\n",
    "\n"
   ]
  }
 ],
 "metadata": {
  "kernelspec": {
   "display_name": "Python (my_env)",
   "language": "python",
   "name": "my_env"
  },
  "language_info": {
   "codemirror_mode": {
    "name": "ipython",
    "version": 3
   },
   "file_extension": ".py",
   "mimetype": "text/x-python",
   "name": "python",
   "nbconvert_exporter": "python",
   "pygments_lexer": "ipython3",
   "version": "3.13.1"
  }
 },
 "nbformat": 4,
 "nbformat_minor": 2
}
